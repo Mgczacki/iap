{
 "cells": [
  {
   "cell_type": "markdown",
   "id": "surprising-atlantic",
   "metadata": {},
   "source": [
    "<a href=\"https://colab.research.google.com/github/mgczacki/iap/blob/main/libretas/Tarea1-Ej3.ipynb\" target=\"_parent\"><img src=\"https://colab.research.google.com/assets/colab-badge.svg\" alt=\"Open In Colab\"/></a>"
   ]
  },
  {
   "cell_type": "markdown",
   "id": "level-vanilla",
   "metadata": {},
   "source": [
    "# Tarea 1: Perceptrón y Redes Densas\n",
    "\n",
    "### Notebook 2 de 3\n",
    "\n",
    "#### Autor: Mario Horacio Garrido Czacki\n",
    "\n",
    "Resuelve los siguientes ejercicios en libretas de Colab independientes que sean replicables."
   ]
  },
  {
   "cell_type": "markdown",
   "id": "printable-alpha",
   "metadata": {},
   "source": [
    "#### 3. Entrena una red completamente conectada para aproximar la compuerta XOR. (3 puntos.)"
   ]
  },
  {
   "cell_type": "code",
   "execution_count": null,
   "id": "varied-above",
   "metadata": {},
   "outputs": [],
   "source": [
    "# biblioteca para inspeccionar arquitecturas\n",
    "# https://github.com/tyleryep/torchinfo\n",
    "!pip install torchinfo"
   ]
  },
  {
   "cell_type": "code",
   "execution_count": 1,
   "id": "dying-stopping",
   "metadata": {},
   "outputs": [],
   "source": [
    "# funciones aleatorias\n",
    "import random\n",
    "# tomar n elementos de una secuencia\n",
    "from itertools import islice as take\n",
    "\n",
    "# gráficas\n",
    "import matplotlib.pyplot as plt\n",
    "# arreglos multidimensionales\n",
    "import numpy as np\n",
    "# redes neuronales\n",
    "import torch\n",
    "import torch.nn as nn\n",
    "import torch.nn.functional as F\n",
    "import torch.optim as optim\n",
    "import torchvision.transforms as T\n",
    "# procesamiento de imágenes\n",
    "from skimage import io\n",
    "# redes neuronales\n",
    "from torch.utils.data import DataLoader\n",
    "from torchvision.datasets import FashionMNIST\n",
    "# inspección de arquitectura\n",
    "from torchinfo import summary\n",
    "# barras de progreso"
   ]
  },
  {
   "cell_type": "code",
   "execution_count": null,
   "id": "combined-trauma",
   "metadata": {},
   "outputs": [],
   "source": [
    "# parche para bicho en colab\n",
    "# https://github.com/pytorch/vision/issues/1938\n",
    "from six.moves import urllib\n",
    "opener = urllib.request.build_opener()\n",
    "opener.addheaders = [('User-agent', 'Mozilla/5.0')]\n",
    "urllib.request.install_opener(opener)"
   ]
  },
  {
   "cell_type": "code",
   "execution_count": 2,
   "id": "baking-crystal",
   "metadata": {},
   "outputs": [],
   "source": [
    "def set_seed(seed=0):\n",
    "    \"\"\"Initializes pseudo-random number generators.\"\"\"\n",
    "    random.seed(seed)\n",
    "    np.random.seed(seed)\n",
    "    torch.manual_seed(seed)\n",
    "\n",
    "    \n",
    "# reproducibilidad\n",
    "set_seed()"
   ]
  },
  {
   "cell_type": "code",
   "execution_count": 3,
   "id": "expected-chick",
   "metadata": {},
   "outputs": [],
   "source": [
    "class FCN(nn.Module):\n",
    "    \n",
    "    # inicializador\n",
    "    def __init__(self):\n",
    "        \n",
    "        # inicilización del objeto padre, obligatorio\n",
    "        super(FCN, self).__init__()\n",
    "        \n",
    "        # tamaño de las capas\n",
    "        self.I = 1 * 2\n",
    "        FC1, FC2 = 2, 1\n",
    "        \n",
    "        # definición de capas\n",
    "        self.cls = nn.Sequential(\n",
    "            nn.Linear(self.I, FC1),\n",
    "            nn.Sigmoid(),\n",
    "            nn.Linear(FC1, FC2)\n",
    "        )\n",
    "    \n",
    "    # método para inferencia\n",
    "    def forward(self, x):\n",
    "        x = self.cls(x)\n",
    "        return x\n",
    "    def pred(self, x):\n",
    "        x = self.cls(x)\n",
    "        m = nn.Sigmoid()\n",
    "        x = m(x)\n",
    "        return x"
   ]
  },
  {
   "cell_type": "code",
   "execution_count": 4,
   "id": "resident-stability",
   "metadata": {},
   "outputs": [],
   "source": [
    "datos = torch.tensor([[0., 0., 0.],\n",
    "                      [0., 1., 1.],\n",
    "                      [1., 0., 1.],\n",
    "                      [1., 1., 0.]])"
   ]
  },
  {
   "cell_type": "code",
   "execution_count": 5,
   "id": "fundamental-soviet",
   "metadata": {},
   "outputs": [],
   "source": [
    "device = torch.device('cuda' if torch.cuda.is_available() else 'cpu')"
   ]
  },
  {
   "cell_type": "code",
   "execution_count": 6,
   "id": "opponent-coating",
   "metadata": {},
   "outputs": [],
   "source": [
    "net = FCN()\n",
    "net = net.to(device)"
   ]
  },
  {
   "cell_type": "code",
   "execution_count": 7,
   "id": "lucky-decade",
   "metadata": {},
   "outputs": [],
   "source": [
    "import torch.optim as optim\n",
    "\n",
    "criterion = nn.BCEWithLogitsLoss()\n",
    "optimizer = optim.Adam(net.parameters(), lr = 0.1)"
   ]
  },
  {
   "cell_type": "code",
   "execution_count": 8,
   "id": "liable-worship",
   "metadata": {},
   "outputs": [],
   "source": [
    "loss_per_epoch = []\n",
    "loss = 1.0\n",
    "\n",
    "epochs = 100"
   ]
  },
  {
   "cell_type": "code",
   "execution_count": 9,
   "id": "fabulous-mailing",
   "metadata": {},
   "outputs": [
    {
     "name": "stdout",
     "output_type": "stream",
     "text": [
      "Termina epoch 0 con loss = 0.7338923215866089\n",
      "Termina epoch 10 con loss = 0.6980984807014465\n",
      "Termina epoch 20 con loss = 0.6974194049835205\n",
      "Termina epoch 30 con loss = 0.6903862953186035\n",
      "Termina epoch 40 con loss = 0.5958744287490845\n",
      "Termina epoch 50 con loss = 0.5029785633087158\n",
      "Termina epoch 60 con loss = 0.4550129473209381\n",
      "Termina epoch 70 con loss = 0.39579471945762634\n",
      "Termina epoch 80 con loss = 0.3164921998977661\n",
      "Termina epoch 90 con loss = 0.23632781207561493\n",
      "Finished Training\n"
     ]
    }
   ],
   "source": [
    "for i in range(epochs):\n",
    "    tl = 0\n",
    "    for a in datos:\n",
    "        entrada = a[:2].to(device)\n",
    "        label = torch.tensor([a[-1]]).to(device)\n",
    "        # pongo las gradientes en cero\n",
    "        optimizer.zero_grad()\n",
    "        # forward + backward + optimize\n",
    "        outputs = net(entrada)\n",
    "        loss = criterion(outputs, label)\n",
    "        loss.backward()\n",
    "        optimizer.step()\n",
    "        tl += loss\n",
    "    tl /= len(datos)\n",
    "    loss_per_epoch.append(tl)\n",
    "    if i % 10 == 0:\n",
    "        print(f\"Termina epoch {i} con loss = {tl}\")\n",
    "print('Finished Training')"
   ]
  },
  {
   "cell_type": "code",
   "execution_count": 10,
   "id": "failing-munich",
   "metadata": {},
   "outputs": [
    {
     "data": {
      "text/plain": [
       "Text(0, 0.5, 'perdida')"
      ]
     },
     "execution_count": 10,
     "metadata": {},
     "output_type": "execute_result"
    },
    {
     "data": {
      "image/png": "[encoded data removed]",
      "text/plain": [
       "<Figure size 432x288 with 1 Axes>"
      ]
     },
     "metadata": {
      "needs_background": "light"
     },
     "output_type": "display_data"
    }
   ],
   "source": [
    "plt.plot(list(range(epochs)), loss_per_epoch)\n",
    "plt.xlabel(\"epoca\")\n",
    "plt.ylabel(\"perdida\")"
   ]
  },
  {
   "cell_type": "code",
   "execution_count": 11,
   "id": "focal-grill",
   "metadata": {},
   "outputs": [
    {
     "name": "stdout",
     "output_type": "stream",
     "text": [
      "La predicción para 0.0 y 0.0 es: 0.0\n",
      "La predicción para 0.0 y 1.0 es: 1.0\n",
      "La predicción para 1.0 y 0.0 es: 1.0\n",
      "La predicción para 1.0 y 1.0 es: 0.0\n"
     ]
    }
   ],
   "source": [
    "for i in datos:\n",
    "    print(f\"La predicción para {i[0]} y {i[1]} es: {np.round(net.pred(i[:2].to(device)).item())}\")"
   ]
  },
  {
   "cell_type": "markdown",
   "id": "eight-hobby",
   "metadata": {},
   "source": [
    "Aquí se llegó a generar el XOR de forma correcta debido al round de numpy. Claramente la función de pérdida puede bajar todavía. No obstante, ya que se juzga la salida de la sigmoide final con un umbral de decisión de 0.5, es una aproximación suficiente para resolver el problema."
   ]
  },
  {
   "cell_type": "markdown",
   "id": "distant-joshua",
   "metadata": {},
   "source": [
    "En este caso decidí tomar 2 neuronas en la capa oculta debido a que se pudo converger con este valor después de 100 épocas al resultado correcto. Supongo que de tomar más neuronas o capas ocultas podría acelerarse la convergencia."
   ]
  },
  {
   "cell_type": "code",
   "execution_count": 12,
   "id": "dietary-mitchell",
   "metadata": {},
   "outputs": [],
   "source": [
    "class FCN(nn.Module):\n",
    "    \n",
    "    # inicializador\n",
    "    def __init__(self):\n",
    "        \n",
    "        # inicilización del objeto padre, obligatorio\n",
    "        super(FCN, self).__init__()\n",
    "        \n",
    "        # tamaño de las capas\n",
    "        self.I = 1 * 2\n",
    "        FC1, FC2 = 20, 1\n",
    "        \n",
    "        # definición de capas\n",
    "        self.cls = nn.Sequential(\n",
    "            nn.Linear(self.I, FC1),\n",
    "            nn.Sigmoid(),\n",
    "            nn.Linear(FC1, FC2)\n",
    "        )\n",
    "    \n",
    "    # método para inferencia\n",
    "    def forward(self, x):\n",
    "        x = self.cls(x)\n",
    "        return x\n",
    "    def pred(self, x):\n",
    "        x = self.cls(x)\n",
    "        m = nn.Sigmoid()\n",
    "        x = m(x)\n",
    "        return x\n",
    "\n",
    "net = FCN()\n",
    "net = net.to(device)"
   ]
  },
  {
   "cell_type": "code",
   "execution_count": 13,
   "id": "devoted-monthly",
   "metadata": {},
   "outputs": [],
   "source": [
    "criterion = nn.BCEWithLogitsLoss()\n",
    "optimizer = optim.Adam(net.parameters(), lr = 0.1)"
   ]
  },
  {
   "cell_type": "code",
   "execution_count": 14,
   "id": "toxic-journalism",
   "metadata": {},
   "outputs": [
    {
     "name": "stdout",
     "output_type": "stream",
     "text": [
      "Termina epoch 0 con loss = 1.0012823343276978\n",
      "Termina epoch 10 con loss = 0.700212299823761\n",
      "Termina epoch 20 con loss = 0.582356333732605\n",
      "Termina epoch 30 con loss = 0.4045284390449524\n",
      "Termina epoch 40 con loss = 0.1923912763595581\n",
      "Termina epoch 50 con loss = 0.08131509274244308\n",
      "Termina epoch 60 con loss = 0.0431080162525177\n",
      "Termina epoch 70 con loss = 0.027264362201094627\n",
      "Termina epoch 80 con loss = 0.019137587398290634\n",
      "Termina epoch 90 con loss = 0.014342769980430603\n",
      "Finished Training\n"
     ]
    }
   ],
   "source": [
    "loss_per_epoch = []\n",
    "loss = 1.0\n",
    "\n",
    "epochs = 100\n",
    "\n",
    "for i in range(epochs):\n",
    "    tl = 0\n",
    "    for a in datos:\n",
    "        entrada = a[:2].to(device)\n",
    "        label = torch.tensor([a[-1]]).to(device)\n",
    "        # pongo las gradientes en cero\n",
    "        optimizer.zero_grad()\n",
    "        # forward + backward + optimize\n",
    "        outputs = net(entrada)\n",
    "        loss = criterion(outputs, label)\n",
    "        loss.backward()\n",
    "        optimizer.step()\n",
    "        tl += loss\n",
    "    tl /= len(datos)\n",
    "    loss_per_epoch.append(tl)\n",
    "    if i % 10 == 0:\n",
    "        print(f\"Termina epoch {i} con loss = {tl}\")\n",
    "print('Finished Training')"
   ]
  },
  {
   "cell_type": "code",
   "execution_count": 15,
   "id": "stuffed-bunch",
   "metadata": {},
   "outputs": [
    {
     "data": {
      "text/plain": [
       "Text(0, 0.5, 'perdida')"
      ]
     },
     "execution_count": 15,
     "metadata": {},
     "output_type": "execute_result"
    },
    {
     "data": {
      "image/png": "[encoded data removed]",
      "text/plain": [
       "<Figure size 432x288 with 1 Axes>"
      ]
     },
     "metadata": {
      "needs_background": "light"
     },
     "output_type": "display_data"
    }
   ],
   "source": [
    "plt.plot(list(range(epochs)), loss_per_epoch)\n",
    "plt.xlabel(\"epoca\")\n",
    "plt.ylabel(\"perdida\")"
   ]
  },
  {
   "cell_type": "markdown",
   "id": "equivalent-floating",
   "metadata": {},
   "source": [
    "Como lo pensaba, se acelera la convergencia ya que el modelo es mucho más poderoso al tener más neuronas en la capa oculta. Ahora intentaré con una sola neurona en la capa oculta."
   ]
  },
  {
   "cell_type": "code",
   "execution_count": 16,
   "id": "burning-promotion",
   "metadata": {},
   "outputs": [],
   "source": [
    "class FCN(nn.Module):\n",
    "    \n",
    "    # inicializador\n",
    "    def __init__(self):\n",
    "        \n",
    "        # inicilización del objeto padre, obligatorio\n",
    "        super(FCN, self).__init__()\n",
    "        \n",
    "        # tamaño de las capas\n",
    "        self.I = 1 * 2\n",
    "        FC1, FC2 = 1, 1\n",
    "        \n",
    "        # definición de capas\n",
    "        self.cls = nn.Sequential(\n",
    "            nn.Linear(self.I, FC1),\n",
    "            nn.Sigmoid(),\n",
    "            nn.Linear(FC1, FC2)\n",
    "        )\n",
    "    \n",
    "    # método para inferencia\n",
    "    def forward(self, x):\n",
    "        x = self.cls(x)\n",
    "        return x\n",
    "    def pred(self, x):\n",
    "        x = self.cls(x)\n",
    "        m = nn.Sigmoid()\n",
    "        x = m(x)\n",
    "        return x\n",
    "\n",
    "net = FCN()\n",
    "net = net.to(device)"
   ]
  },
  {
   "cell_type": "code",
   "execution_count": 17,
   "id": "scheduled-course",
   "metadata": {},
   "outputs": [],
   "source": [
    "criterion = nn.BCEWithLogitsLoss()\n",
    "optimizer = optim.Adam(net.parameters(), lr = 0.1)"
   ]
  },
  {
   "cell_type": "code",
   "execution_count": 18,
   "id": "single-grocery",
   "metadata": {},
   "outputs": [
    {
     "name": "stdout",
     "output_type": "stream",
     "text": [
      "Termina epoch 0 con loss = 0.8087544441223145\n",
      "Termina epoch 100 con loss = 0.5167893767356873\n",
      "Termina epoch 200 con loss = 0.4955592155456543\n",
      "Termina epoch 300 con loss = 0.48997431993484497\n",
      "Termina epoch 400 con loss = 0.4874846935272217\n",
      "Termina epoch 500 con loss = 0.48609086871147156\n",
      "Termina epoch 600 con loss = 0.48520421981811523\n",
      "Termina epoch 700 con loss = 0.484592080116272\n",
      "Termina epoch 800 con loss = 0.48414501547813416\n",
      "Termina epoch 900 con loss = 0.48380428552627563\n",
      "Finished Training\n"
     ]
    }
   ],
   "source": [
    "loss_per_epoch = []\n",
    "loss = 1.0\n",
    "\n",
    "epochs = 1000\n",
    "\n",
    "for i in range(epochs):\n",
    "    tl = 0\n",
    "    for a in datos:\n",
    "        entrada = a[:2].to(device)\n",
    "        label = torch.tensor([a[-1]]).to(device)\n",
    "        # pongo las gradientes en cero\n",
    "        optimizer.zero_grad()\n",
    "        # forward + backward + optimize\n",
    "        outputs = net(entrada)\n",
    "        loss = criterion(outputs, label)\n",
    "        loss.backward()\n",
    "        optimizer.step()\n",
    "        tl += loss\n",
    "    tl /= len(datos)\n",
    "    loss_per_epoch.append(tl)\n",
    "    if i % 100 == 0:\n",
    "        print(f\"Termina epoch {i} con loss = {tl}\")\n",
    "print('Finished Training')"
   ]
  },
  {
   "cell_type": "code",
   "execution_count": 19,
   "id": "personal-religion",
   "metadata": {},
   "outputs": [
    {
     "data": {
      "text/plain": [
       "Text(0, 0.5, 'perdida')"
      ]
     },
     "execution_count": 19,
     "metadata": {},
     "output_type": "execute_result"
    },
    {
     "data": {
      "image/png": "[encoded data removed]",
      "text/plain": [
       "<Figure size 432x288 with 1 Axes>"
      ]
     },
     "metadata": {
      "needs_background": "light"
     },
     "output_type": "display_data"
    }
   ],
   "source": [
    "plt.plot(list(range(epochs)), loss_per_epoch)\n",
    "plt.xlabel(\"epoca\")\n",
    "plt.ylabel(\"perdida\")"
   ]
  },
  {
   "cell_type": "markdown",
   "id": "reliable-gambling",
   "metadata": {},
   "source": [
    "Claramente parece para un modelo con una sola capa oculta, la mínima representación que resuelve el problema es con 2 neuronas ocultas. Cuando hay una sola no se logra predecir correctamente y cuando hay más se tiene una convergencia más rápida (aunque para problemas del mundo real esto podría causar que el modelo se sobreajuste más fácilmente.)\n",
    "\n",
    "Otro factor que afecta la convergencia es el learning rate. Intenté con el que tiene por defecto Adam y aunque la red de dos neuronas en la capa oculta si converge, tarda demasiado. Aumentar el learning rate entonces aumentó la velocidad de convergencia."
   ]
  }
 ],
 "metadata": {
  "kernelspec": {
   "display_name": "Python 3",
   "language": "python",
   "name": "python3"
  },
  "language_info": {
   "codemirror_mode": {
    "name": "ipython",
    "version": 3
   },
   "file_extension": ".py",
   "mimetype": "text/x-python",
   "name": "python",
   "nbconvert_exporter": "python",
   "pygments_lexer": "ipython3",
   "version": "3.8.5"
  }
 },
 "nbformat": 4,
 "nbformat_minor": 5
}
